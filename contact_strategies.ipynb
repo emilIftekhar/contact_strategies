{
 "cells": [
  {
   "cell_type": "code",
   "execution_count": 1,
   "metadata": {},
   "outputs": [],
   "source": [
    "import random\n",
    "import matplotlib.pyplot as plt\n",
    "import numpy as np\n",
    "import networkx as nx\n",
    "\n",
    "\n",
    "from network_handler import Network_Handler\n",
    "from network import Network\n",
    "from person import Person\n",
    "from disease_propagator import Disease_Propagator"
   ]
  },
  {
   "cell_type": "code",
   "execution_count": 7,
   "metadata": {},
   "outputs": [],
   "source": [
    "# Parameters\n",
    "population_size = 1000\n",
    "average_degree = 5\n",
    "random_edge_probability = 0.3\n",
    "\n",
    "time_limit = 1000\n",
    "unit_time = population_size # number of simulation steps that make up one time step\n",
    "\n",
    "time_until_quarantine = {\n",
    "    'mean': 4,\n",
    "    'std_dev': 2\n",
    "}\n",
    "time_until_recovery = 10 # make distribution later\n",
    "p = 0.1 # Factor for probability to become infected in public"
   ]
  },
  {
   "cell_type": "code",
   "execution_count": 8,
   "metadata": {},
   "outputs": [
    {
     "data": {
      "text/plain": [
       "<person.Person at 0x7fdefc1b1cd0>"
      ]
     },
     "execution_count": 8,
     "metadata": {},
     "output_type": "execute_result"
    }
   ],
   "source": [
    "population_IDs = range(population_size)\n",
    "\n",
    "# Network\n",
    "# Degrees ranging from 3 to 10\n",
    "# Clustering coefficient: between 0.15 and 0.2 \n",
    "# Average shortest path length around 6\n",
    "# -> Typical for social networks [Networks: An Introduction by Newman, my google sheet]\n",
    "network = Network(population_size,average_degree,random_edge_probability)\n",
    "\n",
    "# Population dictionary\n",
    "# {ID: Person}\n",
    "population = network._population\n",
    "    \n",
    "network.number_of_nodes()\n",
    "network.nodes[0]['person']"
   ]
  },
  {
   "cell_type": "code",
   "execution_count": 14,
   "metadata": {},
   "outputs": [],
   "source": [
    "\n",
    "# Initialize compartment ID lists\n",
    "S = list(population.keys()) # Susceptibles\n",
    "first_infected = random.choice(list(population.values()))\n",
    "first_infected.time_to_quarantine = np.random.normal(time_until_quarantine['mean'], time_until_quarantine['std_dev'])\n",
    "I = [first_infected.ID] # Infectious\n",
    "S.remove(first_infected.ID)\n",
    "Q = [] # Quarantined\n",
    "\n"
   ]
  },
  {
   "cell_type": "code",
   "execution_count": 15,
   "metadata": {},
   "outputs": [],
   "source": [
    "disease = Disease_Propagator(time_limit, time_until_quarantine['mean'], time_until_quarantine['std_dev'])\n",
    "S_t, I_t = disease.simulate(network, S, I, Q, time_until_recovery, p)\n"
   ]
  },
  {
   "cell_type": "code",
   "execution_count": 14,
   "metadata": {},
   "outputs": [
    {
     "data": {
      "text/plain": [
       "[<matplotlib.lines.Line2D at 0x7fd723365510>]"
      ]
     },
     "execution_count": 14,
     "metadata": {},
     "output_type": "execute_result"
    },
    {
     "data": {
      "image/png": "[encoded data removed]",
      "text/plain": [
       "<Figure size 432x288 with 1 Axes>"
      ]
     },
     "metadata": {
      "needs_background": "light"
     },
     "output_type": "display_data"
    }
   ],
   "source": [
    "time_range = np.arange(0, time_limit, 1)\n",
    "plt.plot(time_range, S_t)\n",
    "plt.plot(time_range, I_t)"
   ]
  },
  {
   "cell_type": "code",
   "execution_count": null,
   "metadata": {},
   "outputs": [],
   "source": []
  },
  {
   "cell_type": "code",
   "execution_count": 9,
   "metadata": {},
   "outputs": [
    {
     "data": {
      "text/plain": [
       "EdgeView([(1, 2)])"
      ]
     },
     "execution_count": 9,
     "metadata": {},
     "output_type": "execute_result"
    }
   ],
   "source": [
    "network1 = nx.Graph()\n",
    "network1.add_nodes_from([1,2])\n",
    "network1.add_edge(1,2)\n",
    "network2 = network1.copy()\n",
    "network2.remove_edge(1,2)\n",
    "network1.edges()"
   ]
  },
  {
   "cell_type": "code",
   "execution_count": null,
   "metadata": {},
   "outputs": [],
   "source": []
  }
 ],
 "metadata": {
  "kernelspec": {
   "display_name": "Python 3",
   "language": "python",
   "name": "python3"
  },
  "language_info": {
   "codemirror_mode": {
    "name": "ipython",
    "version": 3
   },
   "file_extension": ".py",
   "mimetype": "text/x-python",
   "name": "python",
   "nbconvert_exporter": "python",
   "pygments_lexer": "ipython3",
   "version": "3.7.6"
  }
 },
 "nbformat": 4,
 "nbformat_minor": 4
}
