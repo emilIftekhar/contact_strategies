{
 "cells": [
  {
   "cell_type": "code",
   "execution_count": 1,
   "metadata": {},
   "outputs": [],
   "source": [
    "import random\n",
    "import matplotlib.pyplot as plt\n",
    "import numpy as np\n",
    "import networkx as nx\n",
    "\n",
    "\n",
    "from network_handler import Network_Handler\n",
    "from network import Network\n",
    "from person import Person\n",
    "from disease_propagator import Disease_Propagator\n",
    "%load_ext autoreload\n",
    "%autoreload 2"
   ]
  },
  {
   "cell_type": "code",
   "execution_count": 26,
   "metadata": {},
   "outputs": [],
   "source": [
    "# Parameters\n",
    "## General simulation\n",
    "number_of_simulations = 1\n",
    "time_limit = 500\n",
    "\n",
    "## Network-related\n",
    "population_size = 1000\n",
    "average_degree = 5 #Number of initial connections #Distribution\n",
    "random_edge_probability = 0.1\n",
    "maximum_contact_number = 2\n",
    "\n",
    "#unit_time = population_size # number of simulation steps that make up one time step\n",
    "\n",
    "## Disease-related\n",
    "time_until_quarantine = {\n",
    "    'mean': 4+3,\n",
    "    'std_dev': 2\n",
    "}\n",
    "time_until_recovery = 14\n",
    "asymptomatic_probability = 0.2\n",
    "p = 0.1 # Factor for probability to become infected in public\n",
    "I_0 = int(population_size * 0.05) # Starting population of infectious individuals\n",
    "\n",
    "## Scenario-related\n",
    "number_of_daily_contacts_normal = 10\n",
    "contact_reduction_factor = 5\n",
    "number_of_daily_contacts_social_distancing = int(number_of_daily_contacts_normal / contact_reduction_factor)"
   ]
  },
  {
   "cell_type": "markdown",
   "metadata": {},
   "source": [
    "Create our networks, first we create a base network, than the random reduction case and finally the triadic strategy case."
   ]
  },
  {
   "cell_type": "code",
   "execution_count": 27,
   "metadata": {},
   "outputs": [],
   "source": [
    "population_IDs = range(population_size)\n",
    "\n",
    "# Network\n",
    "# Degrees ranging from 3 to 10\n",
    "# Clustering coefficient: between 0.15 and 0.2 \n",
    "# Average shortest path length around 6\n",
    "# -> Typical for social networks [Networks: An Introduction by Newman, my google sheet]\n",
    "\n",
    "network_base = Network(population_size,average_degree,random_edge_probability)\n",
    "\n",
    "# Init our networkhandler with the base_network we defined above\n",
    "network_handler = Network_Handler(network_base)\n",
    "\n",
    "# Reduced network with triadic strategy\n",
    "network_triadic = network_handler.triadic_strategy()\n",
    "\n",
    "# Repeating contacts\n",
    "network_few_contacts = network_handler.repeating_contacts(network_base, maximum_contact_number)"
   ]
  },
  {
   "cell_type": "code",
   "execution_count": 38,
   "metadata": {},
   "outputs": [],
   "source": [
    "scenarios = {\"No restrictions\": (network_base, number_of_daily_contacts_normal),\n",
    "             \"Social distancing (random)\": (network_base, number_of_daily_contacts_social_distancing),\n",
    "             \"Social distancing (triadic)\": (network_triadic, number_of_daily_contacts_social_distancing),\n",
    "             \"Social distancing (few contact persons)\": (network_few_contacts, number_of_daily_contacts_social_distancing)\n",
    "            }"
   ]
  },
  {
   "cell_type": "markdown",
   "metadata": {},
   "source": [
    " Next we create the object that is responsible for simulating disease transmission on a given network."
   ]
  },
  {
   "cell_type": "code",
   "execution_count": 39,
   "metadata": {},
   "outputs": [],
   "source": [
    "disease = Disease_Propagator(time_limit, \n",
    "                             time_until_recovery, \n",
    "                             time_until_quarantine['mean'], \n",
    "                             time_until_quarantine['std_dev'], \n",
    "                             asymptomatic_probability)\n"
   ]
  },
  {
   "cell_type": "code",
   "execution_count": null,
   "metadata": {},
   "outputs": [],
   "source": [
    "#Loop over every of our networks... maybe implement that into the network handler\n",
    "sim_S = []\n",
    "sim_I = []\n",
    "for i in range(0,number_of_simulations):\n",
    "    S_t = {}\n",
    "    I_t = {}\n",
    "    for key in scenarios.keys():\n",
    "        S_t[key], I_t[key] = disease.simulate(scenarios[key][0], p, I_0, scenarios[key][1])\n",
    "    \n",
    "        sim_S.append(S_t[key])\n",
    "        sim_I.append(I_t[key])\n",
    "\n"
   ]
  },
  {
   "cell_type": "code",
   "execution_count": null,
   "metadata": {},
   "outputs": [],
   "source": [
    "sim_S = np.array([sim_S])\n",
    "sim_I = np.array([sim_I])   "
   ]
  },
  {
   "cell_type": "code",
   "execution_count": null,
   "metadata": {},
   "outputs": [],
   "source": [
    "S_percent_2_5 = np.percentile(np.array(sim_S[:,:,:]) ,2.5,axis=0)\n",
    "S_percent_97_5 = np.percentile(np.array(sim_S[:,:,:]) ,97.5,axis=0)\n",
    "I_percent_2_5 = np.percentile(np.array(sim_I[:,:,:]) ,2.5,axis=0)\n",
    "I_percent_97_5 = np.percentile(np.array(sim_I[:,:,:]) ,97.5,axis=0)"
   ]
  },
  {
   "cell_type": "code",
   "execution_count": null,
   "metadata": {},
   "outputs": [],
   "source": [
    "#S_percent_97_5.shape"
   ]
  },
  {
   "cell_type": "code",
   "execution_count": null,
   "metadata": {},
   "outputs": [],
   "source": [
    "#np.mean(np.array(sim_S[:,:,:]),axis=0)"
   ]
  },
  {
   "cell_type": "code",
   "execution_count": null,
   "metadata": {},
   "outputs": [],
   "source": [
    "time_range = np.arange(0, time_limit+1, 1)\n",
    "fig,ax = plt.subplots(len(scenarios),1,figsize=(10,10))\n",
    "for i in range(len(scenarios)):\n",
    "    ax[i].set_xlabel(\"Time in days\")\n",
    "    ax[i].set_ylabel(\"Number of people\")\n",
    "    ax[i].set_xlim(0,500)\n",
    "    \n",
    "    ax[i].fill_between(\n",
    "        time_range,\n",
    "        S_percent_2_5[i],\n",
    "        S_percent_97_5[i],\n",
    "        alpha=0.1\n",
    "    )\n",
    "    ax[i].fill_between(\n",
    "        time_range,\n",
    "        I_percent_2_5[i],\n",
    "        I_percent_97_5[i],    \n",
    "        alpha=0.1\n",
    "    )\n",
    "    ax[i].plot(\n",
    "        time_range,\n",
    "        np.mean(np.array(sim_S[:,i,:]),axis=0)\n",
    "    )\n",
    "    ax[i].plot(\n",
    "        time_range,\n",
    "        np.mean(np.array(sim_I[:,i,:]),axis=0)\n",
    "    )\n",
    "plt.tight_layout()"
   ]
  },
  {
   "cell_type": "code",
   "execution_count": null,
   "metadata": {},
   "outputs": [],
   "source": [
    "\"\"\"\n",
    "base_S = []\n",
    "for i in range(0,number_of_simulations):\n",
    "    base_S.append(sim_S[i][\"base\"])\n",
    "np.array(base_S).shape\n",
    "\n",
    "base = []\n",
    "for i in range(0,number_of_simulations):\n",
    "    base.append(np.percentile(base_S[:][i],2.5))\n",
    "\"\"\"\n",
    "    \n",
    "# EMIL: I get an error here    \n",
    "\n",
    "\n",
    "    \n"
   ]
  },
  {
   "cell_type": "markdown",
   "metadata": {},
   "source": [
    "Both the suceptible and infectious are highly correlated maybe only plot one of both (todo)"
   ]
  },
  {
   "cell_type": "code",
   "execution_count": null,
   "metadata": {},
   "outputs": [],
   "source": [
    "time_range = np.arange(0, time_limit+1, 1)\n",
    "fig, ax = plt.subplots(len(scenarios),1,figsize=(10,10))\n",
    "\n",
    "for i,key in enumerate(scenarios):\n",
    "    ax[i].set_title(key)\n",
    "    ax[i].set_xlabel(\"Time in days\")\n",
    "    ax[i].set_ylabel(\"Number of people\")\n",
    "    ax[i].set_xlim(0,500)\n",
    "    ax[i].plot(time_range, S_t[key], label=\"S\")\n",
    "    ax[i].plot(time_range, I_t[key], label=\"I\")\n",
    "    ax[i].legend()\n",
    "plt.tight_layout()"
   ]
  },
  {
   "cell_type": "code",
   "execution_count": null,
   "metadata": {},
   "outputs": [],
   "source": []
  },
  {
   "cell_type": "code",
   "execution_count": null,
   "metadata": {},
   "outputs": [],
   "source": []
  }
 ],
 "metadata": {
  "kernelspec": {
   "display_name": "Python 3",
   "language": "python",
   "name": "python3"
  },
  "language_info": {
   "codemirror_mode": {
    "name": "ipython",
    "version": 3
   },
   "file_extension": ".py",
   "mimetype": "text/x-python",
   "name": "python",
   "nbconvert_exporter": "python",
   "pygments_lexer": "ipython3",
   "version": "3.7.6"
  }
 },
 "nbformat": 4,
 "nbformat_minor": 4
}
