{
 "cells": [
  {
   "cell_type": "code",
   "execution_count": 1,
   "metadata": {},
   "outputs": [],
   "source": [
    "import random\n",
    "import matplotlib.pyplot as plt\n",
    "import numpy as np\n",
    "import networkx as nx\n",
    "\n",
    "\n",
    "from network_handler import Network_Handler\n",
    "from network import Network\n",
    "from person import Person\n",
    "from disease_propagator import Disease_Propagator"
   ]
  },
  {
   "cell_type": "code",
   "execution_count": 2,
   "metadata": {},
   "outputs": [],
   "source": [
    "# Parameters\n",
    "population_size = 1000\n",
    "average_degree = 5\n",
    "random_edge_probability = 0.3\n",
    "\n",
    "time_limit = 1000\n",
    "unit_time = population_size # number of simulation steps that make up one time step\n",
    "\n",
    "time_until_quarantine = {\n",
    "    'mean': 4,\n",
    "    'std_dev': 2\n",
    "}\n",
    "time_until_recovery = 10 # make distribution later\n",
    "p = 0.1 # Factor for probability to become infected in public"
   ]
  },
  {
   "cell_type": "code",
   "execution_count": 3,
   "metadata": {},
   "outputs": [],
   "source": [
    "population_IDs = range(population_size)\n",
    "\n",
    "# Network\n",
    "# Degrees ranging from 3 to 10\n",
    "# Clustering coefficient: between 0.15 and 0.2 \n",
    "# Average shortest path length around 6\n",
    "# -> Typical for social networks [Networks: An Introduction by Newman, my google sheet]\n",
    "network = Network(population_size,average_degree,random_edge_probability)\n",
    "\n",
    "# Population dictionary\n",
    "# {ID: Person}\n",
    "population = network.get_population()"
   ]
  },
  {
   "cell_type": "code",
   "execution_count": 4,
   "metadata": {},
   "outputs": [
    {
     "name": "stdout",
     "output_type": "stream",
     "text": [
      "2000\n",
      "1305\n",
      "1388\n"
     ]
    }
   ],
   "source": [
    "# Network handler\n",
    "network_handler = Network_Handler(network)\n",
    "\n",
    "# Randomly reduced network\n",
    "randomly_reduced_network = network_handler.random_reduction()\n",
    "\n",
    "# Reduced network with triadic strategy\n",
    "triadic_network = network_handler.triadic_strategy()\n",
    "\n",
    "print(len(list(network.edges)))\n",
    "print(len(list(randomly_reduced_network.edges)))\n",
    "print(len(list(triadic_network.edges))) "
   ]
  },
  {
   "cell_type": "code",
   "execution_count": 4,
   "metadata": {},
   "outputs": [],
   "source": [
    "# Initialize compartment ID lists\n",
    "S = list(population.keys()) # Susceptibles\n",
    "first_infected = random.choice(list(population.values()))\n",
    "first_infected.time_to_quarantine = np.random.normal(time_until_quarantine['mean'], time_until_quarantine['std_dev'])\n",
    "I = [first_infected.ID] # Infectious\n",
    "S.remove(first_infected.ID)\n",
    "Q = [] # Quarantined\n",
    "\n"
   ]
  },
  {
   "cell_type": "code",
   "execution_count": 5,
   "metadata": {},
   "outputs": [],
   "source": [
    "disease = Disease_Propagator(time_limit, time_until_quarantine['mean'], time_until_quarantine['std_dev'])\n",
    "S_t, I_t = disease.simulate(network, S, I, Q, time_until_recovery, p)\n"
   ]
  },
  {
   "cell_type": "code",
   "execution_count": 6,
   "metadata": {},
   "outputs": [
    {
     "data": {
      "text/plain": [
       "[<matplotlib.lines.Line2D at 0x1d065794fc8>]"
      ]
     },
     "execution_count": 6,
     "metadata": {},
     "output_type": "execute_result"
    },
    {
     "data": {
      "image/png": "[encoded data removed]",
      "text/plain": [
       "<Figure size 432x288 with 1 Axes>"
      ]
     },
     "metadata": {
      "needs_background": "light"
     },
     "output_type": "display_data"
    }
   ],
   "source": [
    "time_range = np.arange(0, time_limit, 1)\n",
    "plt.plot(time_range, S_t)\n",
    "plt.plot(time_range, I_t)"
   ]
  },
  {
   "cell_type": "code",
   "execution_count": null,
   "metadata": {},
   "outputs": [],
   "source": []
  },
  {
   "cell_type": "code",
   "execution_count": 10,
   "metadata": {},
   "outputs": [
    {
     "ename": "TypeError",
     "evalue": "remove_edge() missing 1 required positional argument: 'v'",
     "output_type": "error",
     "traceback": [
      "\u001b[1;31m---------------------------------------------------------------------------\u001b[0m",
      "\u001b[1;31mTypeError\u001b[0m                                 Traceback (most recent call last)",
      "\u001b[1;32m<ipython-input-10-0eb81b88c421>\u001b[0m in \u001b[0;36m<module>\u001b[1;34m\u001b[0m\n\u001b[0;32m      7\u001b[0m \u001b[0mnetwork1\u001b[0m\u001b[1;33m.\u001b[0m\u001b[0medges\u001b[0m\u001b[1;33m(\u001b[0m\u001b[1;33m)\u001b[0m\u001b[1;33m\u001b[0m\u001b[1;33m\u001b[0m\u001b[0m\n\u001b[0;32m      8\u001b[0m \u001b[0mls\u001b[0m \u001b[1;33m=\u001b[0m \u001b[0mlist\u001b[0m\u001b[1;33m(\u001b[0m\u001b[0mnetwork1\u001b[0m\u001b[1;33m.\u001b[0m\u001b[0medges\u001b[0m\u001b[1;33m)\u001b[0m\u001b[1;33m\u001b[0m\u001b[1;33m\u001b[0m\u001b[0m\n\u001b[1;32m----> 9\u001b[1;33m \u001b[0mnetwork1\u001b[0m\u001b[1;33m.\u001b[0m\u001b[0mremove_edge\u001b[0m\u001b[1;33m(\u001b[0m\u001b[0mls\u001b[0m\u001b[1;33m[\u001b[0m\u001b[1;36m0\u001b[0m\u001b[1;33m]\u001b[0m\u001b[1;33m)\u001b[0m\u001b[1;33m\u001b[0m\u001b[1;33m\u001b[0m\u001b[0m\n\u001b[0m",
      "\u001b[1;31mTypeError\u001b[0m: remove_edge() missing 1 required positional argument: 'v'"
     ]
    }
   ],
   "source": [
    "# just some general testing\n",
    "network1 = nx.Graph()\n",
    "network1.add_nodes_from([1,2])\n",
    "network1.add_edge(1,2)\n",
    "network2 = network1.copy()\n",
    "network2.remove_edge(1,2)\n",
    "network1.edges()\n",
    "ls = list(network1.edges)\n"
   ]
  },
  {
   "cell_type": "code",
   "execution_count": null,
   "metadata": {},
   "outputs": [],
   "source": []
  }
 ],
 "metadata": {
  "kernelspec": {
   "display_name": "Python 3",
   "language": "python",
   "name": "python3"
  },
  "language_info": {
   "codemirror_mode": {
    "name": "ipython",
    "version": 3
   },
   "file_extension": ".py",
   "mimetype": "text/x-python",
   "name": "python",
   "nbconvert_exporter": "python",
   "pygments_lexer": "ipython3",
   "version": "3.7.6"
  }
 },
 "nbformat": 4,
 "nbformat_minor": 4
}
